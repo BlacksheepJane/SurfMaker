{
 "cells": [
  {
   "cell_type": "markdown",
   "metadata": {},
   "source": [
    "The lmdb file was used here, we will process the raw data to the .lmdb file first"
   ]
  },
  {
   "cell_type": "code",
   "execution_count": 1,
   "metadata": {},
   "outputs": [],
   "source": [
    "from glob import glob\n",
    "import sys\n",
    "res2mol_path = '../../SurfGen/'\n",
    "sys.path.append(res2mol_path)\n",
    "\n",
    "import os\n",
    "import pickle\n",
    "import lmdb\n",
    "import torch\n",
    "from torch.utils.data import Dataset\n",
    "from tqdm.auto import tqdm\n",
    "import os.path as osp\n",
    "from rdkit import Chem\n",
    "from utils.datasets.surfdata import SurfGenDataset\n",
    "from utils.transforms import *\n",
    "from utils.misc import *\n",
    "\n",
    "def read_sdf(sdf_file, sanitize=False):\n",
    "    supp = Chem.SDMolSupplier(sdf_file, sanitize=sanitize)\n",
    "    mols_list = [i for i in supp]\n",
    "    return mols_list\n",
    "def write_pkl(list,file):\n",
    "    with open(file,'wb') as f:\n",
    "        pickle.dump(list,f)\n",
    "        print('pkl file saved at {}'.format(file))\n",
    "def write_sdf(mol_list,file):\n",
    "    writer = Chem.SDWriter(file)\n",
    "    for i in mol_list:\n",
    "        writer.write(i)\n",
    "    writer.close()\n",
    "\n",
    "import torch\n",
    "from plyfile import PlyData\n",
    "from torch_geometric.data import Data\n",
    "from torch_geometric.transforms import FaceToEdge, Cartesian\n",
    "from utils.data import ProteinLigandData, torchify_dict\n",
    "from utils.protein_ligand import parse_sdf_file, parse_rdmol\n",
    "\n",
    "def read_ply(path, read_face=None):\n",
    "    with open(path, 'rb') as f:\n",
    "        data = PlyData.read(f)\n",
    "\n",
    "    features = ([torch.tensor(data['vertex'][axis.name]) for axis in data['vertex'].properties if axis.name not in ['nx', 'ny', 'nz'] ])\n",
    "    pos = torch.stack(features[:3], dim=-1)\n",
    "    features = torch.stack(features[3:], dim=-1)\n",
    "    \n",
    "    if 'face' in data:\n",
    "        faces = data['face']['vertex_indices']\n",
    "        faces = [torch.tensor(fa, dtype=torch.long) for fa in faces]\n",
    "        face = torch.stack(faces, dim=-1)\n",
    "\n",
    "    #data = Data(x=features, pos=pos, face=face)\n",
    "    data = {'feature':features,\\\n",
    "        'pos':pos}\n",
    "    return data"
   ]
  },
  {
   "cell_type": "code",
   "execution_count": 2,
   "metadata": {},
   "outputs": [],
   "source": [
    "parser = argparse.ArgumentParser()\n",
    "parser.add_argument('--config', type=str, default='../configs/train_surflinker_moad_oncross.yml')\n",
    "parser.add_argument('--device', type=str, default='cuda')\n",
    "parser.add_argument('--base_path', type=str, default='/home/haotian/molecules_confs/Protein_test/SurfGen')\n",
    "args = parser.parse_args([])\n",
    "config = load_config(args.config)\n",
    "config_name = os.path.basename(args.config)[:os.path.basename(args.config).rfind('.')]\n",
    "seed_all(config.train.seed)"
   ]
  },
  {
   "cell_type": "code",
   "execution_count": 6,
   "metadata": {},
   "outputs": [],
   "source": [
    "protein_featurizer = FeaturizeProteinAtom()\n",
    "ligand_featurizer = FeaturizeLigandAtom()\n",
    "masking = get_mask(config.train.transform.mask)\n",
    "composer = AtomComposer(protein_featurizer.feature_dim, ligand_featurizer.feature_dim, config.model.encoder.knn)\n",
    "\n",
    "edge_sampler = EdgeSample(config.train.transform.edgesampler)\n",
    "cfg_ctr = config.train.transform.contrastive\n",
    "contrastive_sampler = ContrastiveSample(cfg_ctr.num_real, cfg_ctr.num_fake, cfg_ctr.pos_real_std, cfg_ctr.pos_fake_std, config.model.field.knn)\n",
    "transform = Compose([\n",
    "    RefineData(),\n",
    "    LigandCountNeighbors(),\n",
    "    protein_featurizer,\n",
    "    ligand_featurizer,\n",
    "    masking,\n",
    "    composer,\n",
    "\n",
    "    FocalBuilder(),\n",
    "    edge_sampler,\n",
    "    contrastive_sampler,\n",
    "])"
   ]
  },
  {
   "cell_type": "code",
   "execution_count": 2,
   "metadata": {},
   "outputs": [],
   "source": [
    "import pickle\n",
    "def read_pkl(file):\n",
    "    with open(file,'rb') as f:\n",
    "        data = pickle.load(f)\n",
    "    return data\n",
    "def write_pkl(list,file):\n",
    "    with open(file,'wb') as f:\n",
    "        pickle.dump(list,f)\n",
    "        print('pkl file saved at {}'.format(file))"
   ]
  },
  {
   "cell_type": "markdown",
   "metadata": {},
   "source": [
    "### filter the molecules"
   ]
  },
  {
   "cell_type": "code",
   "execution_count": 3,
   "metadata": {},
   "outputs": [
    {
     "data": {
      "application/vnd.jupyter.widget-view+json": {
       "model_id": "4553a28afdac4db19dbe52e72510bf72",
       "version_major": 2,
       "version_minor": 0
      },
      "text/plain": [
       "  0%|          | 0/36532 [00:00<?, ?it/s]"
      ]
     },
     "metadata": {},
     "output_type": "display_data"
    }
   ],
   "source": [
    "import shutil\n",
    "def check_atom_type(mol):\n",
    "    flag=True\n",
    "    for atom in mol.GetAtoms():\n",
    "        atomic_number = atom.GetAtomicNum()\n",
    "        if int(atomic_number) not in [6,7,8,9,15,16,17]:\n",
    "            flag=False\n",
    "            break\n",
    "    return flag\n",
    "\n",
    "transer_path = ''\n",
    "atomic_numbers = [6,7,8,9,15,16,17]\n",
    "ligfiles = glob('/home/haotian/molecules_confs/Protein_test/SurfGen/data/bindingmoad/*.sdf')\n",
    "for ligfile in tqdm(ligfiles):\n",
    "    mol = read_sdf(ligfile)[0]\n",
    "    flag = check_atom_type(mol)\n",
    "    if flag:\n",
    "        shutil.copy(ligfile,'/home/haotian/molecules_confs/Protein_test/SurfGen/data/moad/all_ligand')"
   ]
  },
  {
   "cell_type": "markdown",
   "metadata": {},
   "source": [
    "### Remove All Hydrogens in molecules, because the molecular generation should focus on the heavy atoms."
   ]
  },
  {
   "cell_type": "code",
   "execution_count": 9,
   "metadata": {},
   "outputs": [
    {
     "data": {
      "application/vnd.jupyter.widget-view+json": {
       "model_id": "ceda727d106a44828193e680c3443e35",
       "version_major": 2,
       "version_minor": 0
      },
      "text/plain": [
       "  0%|          | 0/19307 [00:00<?, ?it/s]"
      ]
     },
     "metadata": {},
     "output_type": "display_data"
    },
    {
     "name": "stderr",
     "output_type": "stream",
     "text": [
      "[02:52:41] Explicit valence for atom # 20 O, 3, is greater than permitted\n"
     ]
    },
    {
     "name": "stdout",
     "output_type": "stream",
     "text": [
      "/home/haotian/molecules_confs/Protein_test/SurfGen/data/bindingmoad_filter/5tdm_3.sdf\n"
     ]
    },
    {
     "name": "stderr",
     "output_type": "stream",
     "text": [
      "[02:52:44] Explicit valence for atom # 9 O, 3, is greater than permitted\n",
      "[02:52:44] Explicit valence for atom # 1 O, 5, is greater than permitted\n",
      "[02:52:45] Explicit valence for atom # 10 O, 3, is greater than permitted\n"
     ]
    },
    {
     "name": "stdout",
     "output_type": "stream",
     "text": [
      "/home/haotian/molecules_confs/Protein_test/SurfGen/data/bindingmoad_filter/3ilr_1.sdf\n",
      "/home/haotian/molecules_confs/Protein_test/SurfGen/data/bindingmoad_filter/3nu3_1.sdf\n",
      "/home/haotian/molecules_confs/Protein_test/SurfGen/data/bindingmoad_filter/1c39_0.sdf\n"
     ]
    },
    {
     "name": "stderr",
     "output_type": "stream",
     "text": [
      "[02:52:48] Explicit valence for atom # 5 O, 3, is greater than permitted\n",
      "[02:52:49] Explicit valence for atom # 3 O, 4, is greater than permitted\n",
      "[02:52:50] Explicit valence for atom # 2 C, 5, is greater than permitted\n",
      "[02:52:51] Explicit valence for atom # 12 O, 3, is greater than permitted\n"
     ]
    },
    {
     "name": "stdout",
     "output_type": "stream",
     "text": [
      "/home/haotian/molecules_confs/Protein_test/SurfGen/data/bindingmoad_filter/6cig_1.sdf\n",
      "/home/haotian/molecules_confs/Protein_test/SurfGen/data/bindingmoad_filter/11bg_0.sdf\n",
      "/home/haotian/molecules_confs/Protein_test/SurfGen/data/bindingmoad_filter/4mty_2.sdf\n",
      "/home/haotian/molecules_confs/Protein_test/SurfGen/data/bindingmoad_filter/2gyu_0.sdf\n"
     ]
    }
   ],
   "source": [
    "new_lig_path = '/home/haotian/molecules_confs/Protein_test/SurfGen/data/new_lig_path'\n",
    "ligfiles = glob('/home/haotian/molecules_confs/Protein_test/SurfGen/data/bindingmoad_filter/*.sdf')\n",
    "for ligfile in tqdm(ligfiles):\n",
    "    try:    \n",
    "        mol = read_sdf(ligfile)[0]\n",
    "        name = ligfile.split('/')[-1]\n",
    "        mol = Chem.RemoveAllHs(mol)\n",
    "        flag = check_atom_type(mol)\n",
    "        if flag is not True:\n",
    "            print(ligfile)\n",
    "        write_sdf([mol],new_lig_path+'/'+name)\n",
    "    except:\n",
    "        print(ligfile)"
   ]
  },
  {
   "cell_type": "markdown",
   "metadata": {},
   "source": [
    "### create index file ,the index file is the pickle file, [(protein_filename, lig_filename) *n]"
   ]
  },
  {
   "cell_type": "code",
   "execution_count": 6,
   "metadata": {},
   "outputs": [],
   "source": [
    "raw_path = '/home/haotian/molecules_confs/Protein_test/SurfGen/data/bindingmoad_filter'\n",
    "index_path = os.path.join(raw_path, 'index.pkl')"
   ]
  },
  {
   "cell_type": "code",
   "execution_count": 8,
   "metadata": {},
   "outputs": [
    {
     "data": {
      "application/vnd.jupyter.widget-view+json": {
       "model_id": "a31f570f8b4046a2b29de48582377229",
       "version_major": 2,
       "version_minor": 0
      },
      "text/plain": [
       "  0%|          | 0/35739 [00:00<?, ?it/s]"
      ]
     },
     "metadata": {},
     "output_type": "display_data"
    }
   ],
   "source": [
    "moad_index = []\n",
    "ligfiles = glob('/home/haotian/molecules_confs/Protein_test/SurfGen/data/bindingmoad_filter/*.sdf')\n",
    "for ligfile in tqdm(ligfiles):\n",
    "    file_name = ligfile.split('/')[-1]\n",
    "    ply_file = file_name[:6] + '_pocket_8.0_res_1.5.ply'\n",
    "    moad_index.append((ply_file,file_name,file_name[:4]+'_protein.pdb'))"
   ]
  },
  {
   "cell_type": "code",
   "execution_count": 9,
   "metadata": {},
   "outputs": [
    {
     "name": "stdout",
     "output_type": "stream",
     "text": [
      "pkl file saved at /home/haotian/molecules_confs/Protein_test/SurfGen/data/bindingmoad_filter/index.pkl\n"
     ]
    }
   ],
   "source": [
    "write_pkl(moad_index, index_path)"
   ]
  },
  {
   "cell_type": "markdown",
   "metadata": {},
   "source": [
    "### create lmdb and lmdb-lock file"
   ]
  },
  {
   "cell_type": "code",
   "execution_count": 10,
   "metadata": {},
   "outputs": [],
   "source": [
    "raw_path = '/home/haotian/molecules_confs/Protein_test/SurfGen/data/bindingmoad_filter'\n",
    "index_path = os.path.join(raw_path, 'index.pkl')\n",
    "processed_path = os.path.join(os.path.dirname(raw_path), os.path.basename(raw_path) + '_mol.lmdb')\n",
    "name2id_path = os.path.join(os.path.dirname(raw_path), os.path.basename(raw_path) + '_molname2id.pt')"
   ]
  },
  {
   "cell_type": "code",
   "execution_count": 11,
   "metadata": {},
   "outputs": [],
   "source": [
    "from rdkit import RDLogger\n",
    "lg = RDLogger.logger()\n",
    "lg.setLevel(RDLogger.CRITICAL)"
   ]
  },
  {
   "cell_type": "code",
   "execution_count": 12,
   "metadata": {},
   "outputs": [
    {
     "data": {
      "application/vnd.jupyter.widget-view+json": {
       "model_id": "36ae5da8a6a34c68a74a75b45bfab930",
       "version_major": 2,
       "version_minor": 0
      },
      "text/plain": [
       "  0%|          | 0/35739 [00:00<?, ?it/s]"
      ]
     },
     "metadata": {},
     "output_type": "display_data"
    }
   ],
   "source": [
    "surf_path = '/home/haotian/molecules_confs/Protein_test/SurfGen/data/bindingmoad_surface_8'\n",
    "base_path = '/home/haotian/molecules_confs/Protein_test/SurfGen/data/bindingmoad_filter'\n",
    "lig_path = '/home/haotian/molecules_confs/Protein_test/SurfGen/data/bindingmoad_filter'\n",
    "\n",
    "db = lmdb.open(\n",
    "    processed_path,\n",
    "    map_size=10*(1024*1024*1024),   # 10GB\n",
    "    create=True,\n",
    "    subdir=False,\n",
    "    readonly=False, # Writable\n",
    ")\n",
    "with open(index_path, 'rb') as f:\n",
    "    index = pickle.load(f)\n",
    "num_skipped = 0\n",
    "with db.begin(write=True, buffers=True) as txn:\n",
    "    for i, (pocket_fn, ligand_fn, protein_fn ) in enumerate(tqdm(index)):\n",
    "        if pocket_fn is None: \n",
    "            continue\n",
    "        try:\n",
    "            sdf_file = osp.join(lig_path,index[i][1])\n",
    "            ply_file = osp.join(surf_path,index[i][0])\n",
    "\n",
    "            pocket_dict = read_ply(ply_file)\n",
    "            ligand_dict = parse_sdf_file(sdf_file)\n",
    "            data = ProteinLigandData.from_protein_ligand_dicts(\n",
    "                protein_dict=torchify_dict(pocket_dict),\n",
    "                ligand_dict=torchify_dict(ligand_dict),\n",
    "            )\n",
    "            data.protein_filename = index[i][2]\n",
    "            data.ligand_filename = index[i][1]\n",
    "            data.surface_filename = index[i][0]\n",
    "            data.mol = ligand_dict['mol']\n",
    "            txn.put(\n",
    "                key = str(i).encode(),\n",
    "                value = pickle.dumps(data)\n",
    "            )\n",
    "        except:\n",
    "            num_skipped += 1\n",
    "            if num_skipped%100 == 0:\n",
    "                print('Skipping (%d) %s' % (num_skipped, ligand_fn, ))\n",
    "            continue\n",
    "db.close()"
   ]
  },
  {
   "cell_type": "code",
   "execution_count": null,
   "metadata": {},
   "outputs": [],
   "source": []
  },
  {
   "cell_type": "code",
   "execution_count": 13,
   "metadata": {},
   "outputs": [],
   "source": [
    "db = lmdb.open(\n",
    "            processed_path,\n",
    "            map_size=5*(1024*1024*1024),   # 5GB\n",
    "            create=False,\n",
    "            subdir=False,\n",
    "            readonly=True,\n",
    "            lock=False,\n",
    "            readahead=False,\n",
    "            meminit=False,\n",
    "        )\n",
    "with db.begin() as txn:\n",
    "    keys = list(txn.cursor().iternext(values=False))"
   ]
  },
  {
   "cell_type": "code",
   "execution_count": 14,
   "metadata": {},
   "outputs": [
    {
     "data": {
      "application/vnd.jupyter.widget-view+json": {
       "model_id": "92ade550123344cc828d655e5d7f8272",
       "version_major": 2,
       "version_minor": 0
      },
      "text/plain": [
       "Indexing:   0%|          | 0/35672 [00:00<?, ?it/s]"
      ]
     },
     "metadata": {},
     "output_type": "display_data"
    }
   ],
   "source": [
    "name2id = {}\n",
    "for i in tqdm(range(len(keys)), 'Indexing'):\n",
    "    try:\n",
    "        key = keys[i]\n",
    "        data = pickle.loads(db.begin().get(key))\n",
    "        data.id = i\n",
    "        assert data.protein_pos.size(0) > 0\n",
    "    except AssertionError as e:\n",
    "        print(i,e)\n",
    "        continue\n",
    "    name = (data.surface_filename, data.ligand_filename)\n",
    "    name2id[name] = i"
   ]
  },
  {
   "cell_type": "code",
   "execution_count": 15,
   "metadata": {},
   "outputs": [],
   "source": [
    "torch.save(name2id, name2id_path)"
   ]
  },
  {
   "cell_type": "markdown",
   "metadata": {},
   "source": [
    "### create split file, {'train':[(protein_file, lig_file)*n], 'test':[(protein_file, lig_file)*n]}. Combined with the index.pkl, we can split file as train and test set. "
   ]
  },
  {
   "cell_type": "code",
   "execution_count": 16,
   "metadata": {},
   "outputs": [],
   "source": [
    "surf_path = '/home/haotian/molecules_confs/Protein_test/SurfGen/data/bindingmoad_surface_8'\n",
    "base_path = '/home/haotian/molecules_confs/Protein_test/SurfGen/data/bindingmoad_filter2'\n",
    "\n",
    "split = {}\n",
    "split['train'] = []\n",
    "split['test'] = []\n",
    "split['all'] = list(name2id.keys())\n",
    "\n",
    "test_raw = []\n",
    "sdffiles = glob('/home/haotian/molecules_confs/Protein_test/SurfGen/data/moad/test_newpdb/*.sdf')\n",
    "for ligfile in sdffiles:\n",
    "    name = ligfile.split('/')[-1][:6]\n",
    "    pdbid = name[:4]\n",
    "    surffile = name + '_pocket_8.0_res_1.5.ply'\n",
    "    sdffile = ligfile.split('/')[-1]\n",
    "    test_name = (surffile, sdffile)\n",
    "    test_raw.append(test_name)"
   ]
  },
  {
   "cell_type": "code",
   "execution_count": 17,
   "metadata": {},
   "outputs": [],
   "source": [
    "for all_name in split['all']:\n",
    "    flag = False\n",
    "    for test_name in test_raw:\n",
    "        if test_name == all_name:\n",
    "            flag = True\n",
    "    if flag:\n",
    "        split['test'].append(all_name)\n",
    "    if not flag:\n",
    "        split['train'].append(all_name)"
   ]
  },
  {
   "cell_type": "code",
   "execution_count": 18,
   "metadata": {},
   "outputs": [
    {
     "data": {
      "text/plain": [
       "35516"
      ]
     },
     "execution_count": 18,
     "metadata": {},
     "output_type": "execute_result"
    }
   ],
   "source": [
    "len(split['train'])"
   ]
  },
  {
   "cell_type": "code",
   "execution_count": 19,
   "metadata": {},
   "outputs": [
    {
     "data": {
      "text/plain": [
       "156"
      ]
     },
     "execution_count": 19,
     "metadata": {},
     "output_type": "execute_result"
    }
   ],
   "source": [
    "len(split['test'])"
   ]
  },
  {
   "cell_type": "code",
   "execution_count": 20,
   "metadata": {},
   "outputs": [
    {
     "data": {
      "text/plain": [
       "35672"
      ]
     },
     "execution_count": 20,
     "metadata": {},
     "output_type": "execute_result"
    }
   ],
   "source": [
    "len(split['all'])"
   ]
  },
  {
   "cell_type": "code",
   "execution_count": 21,
   "metadata": {},
   "outputs": [
    {
     "data": {
      "text/plain": [
       "35672"
      ]
     },
     "execution_count": 21,
     "metadata": {},
     "output_type": "execute_result"
    }
   ],
   "source": [
    "len(split['train']) + len(split['test'])"
   ]
  },
  {
   "cell_type": "code",
   "execution_count": 22,
   "metadata": {},
   "outputs": [],
   "source": [
    "torch.save(split, '/home/haotian/molecules_confs/Protein_test/SurfGen/data/moad_filter_split_by_name.pt')"
   ]
  },
  {
   "cell_type": "code",
   "execution_count": null,
   "metadata": {},
   "outputs": [],
   "source": []
  },
  {
   "cell_type": "code",
   "execution_count": 27,
   "metadata": {},
   "outputs": [],
   "source": [
    "mol = read_sdf(ligfiles[0])[0]"
   ]
  },
  {
   "cell_type": "code",
   "execution_count": 30,
   "metadata": {},
   "outputs": [],
   "source": [
    "index = read_pkl('/home/haotian/molecules_confs/Protein_test/Res2mol/data/crossdocked_pocket10/index.pkl')"
   ]
  },
  {
   "cell_type": "code",
   "execution_count": 38,
   "metadata": {},
   "outputs": [],
   "source": [
    "i = 0\n",
    "base_path = '/home/haotian/molecules_confs/Protein_test/Res2mol/data/crossdocked_pocket10'\n",
    "ligfile = osp.join(base_path,index[i][1])\n",
    "mol = read_sdf(ligfile)[0]"
   ]
  }
 ],
 "metadata": {
  "kernelspec": {
   "display_name": "Python 3.8.13 ('sdegen_copy')",
   "language": "python",
   "name": "python3"
  },
  "language_info": {
   "codemirror_mode": {
    "name": "ipython",
    "version": 3
   },
   "file_extension": ".py",
   "mimetype": "text/x-python",
   "name": "python",
   "nbconvert_exporter": "python",
   "pygments_lexer": "ipython3",
   "version": "3.8.13"
  },
  "orig_nbformat": 4,
  "vscode": {
   "interpreter": {
    "hash": "3ee1ad13cc37464e793c223b13784939e40d252c40df7398fdc0b4d1f7c4b1e9"
   }
  }
 },
 "nbformat": 4,
 "nbformat_minor": 2
}
