{
 "cells": [
  {
   "cell_type": "code",
   "execution_count": 1,
   "metadata": {},
   "outputs": [],
   "source": [
    "from generate_prot_ply import compute_inp_surface\n",
    "# or from utils.generate_prot_ply import compute_inp_surface"
   ]
  },
  {
   "cell_type": "code",
   "execution_count": 9,
   "metadata": {},
   "outputs": [],
   "source": [
    "prot_path = './alk/ALK2.pdb'\n",
    "lig_path = './alk/Brigatinib.sdf'"
   ]
  },
  {
   "cell_type": "code",
   "execution_count": 6,
   "metadata": {},
   "outputs": [],
   "source": [
    "import os\n",
    "os.environ[\"LD_LIBRARY_PATH\"] = '/home/haotian/Molecule_Generation/SurfBP/dataset/install_software/APBS-3.0.0.Linux/lib'\n",
    "msms_bin=\"/home/haotian/Molecule_Generation/SurfBP/dataset/install_software/APBS-3.0.0.Linux/bin/msms\"\n",
    "apbs_bin = '/home/haotian/Molecule_Generation/SurfBP/dataset/install_software/APBS-3.0.0.Linux/bin/apbs'\n",
    "pdb2pqr_bin=\"/home/haotian/Molecule_Generation/SurfBP/dataset/install_software/pdb2pqr-linux-bin64-2.1.1/pdb2pqr\"\n",
    "multivalue_bin=\"/home/haotian/Molecule_Generation/SurfBP/dataset/install_software/APBS-3.0.0.Linux/share/apbs/tools/bin/multivalue\"\n",
    "\n",
    "# if you face the error: \"error while loading shared libraries: libTABIPBlib.so: cannot open shared object file: No such file or directory\"\n",
    "# please add the following line to your ~/.bashrc file or directly add it to the os.environ\n",
    "# os.environ[\"LD_LIBRARY_PATH\"] = '/home/haotian/Molecule_Generation/SurfBP/dataset/install_software/APBS-3.0.0.Linux/lib'\n",
    "# Then set the msms_bin, apbs_bin, pdb2pqr_bin, multivalue_bin to the correct path in your system "
   ]
  },
  {
   "cell_type": "code",
   "execution_count": 7,
   "metadata": {},
   "outputs": [],
   "source": [
    "compute_inp_surface(prot_path, lig_path)"
   ]
  }
 ],
 "metadata": {
  "kernelspec": {
   "display_name": "surf_maker",
   "language": "python",
   "name": "python3"
  },
  "language_info": {
   "codemirror_mode": {
    "name": "ipython",
    "version": 3
   },
   "file_extension": ".py",
   "mimetype": "text/x-python",
   "name": "python",
   "nbconvert_exporter": "python",
   "pygments_lexer": "ipython3",
   "version": "3.6.15"
  },
  "orig_nbformat": 4
 },
 "nbformat": 4,
 "nbformat_minor": 2
}
